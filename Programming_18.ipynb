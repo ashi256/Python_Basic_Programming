{
 "cells": [
  {
   "cell_type": "code",
   "execution_count": 14,
   "metadata": {},
   "outputs": [
    {
     "name": "stdout",
     "output_type": "stream",
     "text": [
      "enter a list with just int and string values[1,2,'frfr','1','123',123]\n",
      "5\n",
      "[1, 2, 123]\n"
     ]
    }
   ],
   "source": [
    "#1\n",
    "def filter_list(l):\n",
    "    \"\"\"\n",
    "    return a new list\n",
    "    without the strings.\n",
    "    \"\"\"\n",
    "    i=len(l)-1\n",
    "    print(i)\n",
    "    while(i>=0):\n",
    "        if type(l[i]) == str:\n",
    "            l.remove(l[i])\n",
    "           # print(l,'yes')\n",
    "            i=len(l)-1\n",
    "        else:\n",
    "            i=i-1\n",
    "    return l\n",
    "l = eval(input(\"enter a list with just int and string values\"))\n",
    "print(filter_list(l))\n"
   ]
  },
  {
   "cell_type": "code",
   "execution_count": 17,
   "metadata": {},
   "outputs": [],
   "source": [
    "#2\n",
    "def reverser(s):\n",
    "    \"\"\"\n",
    "    return the string in reverse order\n",
    "    with opposite case\n",
    "    \"\"\"\n",
    "    s1=''\n",
    "    n = len(s)\n",
    "    for i in range(n-1,-1,-1):\n",
    "        s1 =s1+s[i]\n",
    "    s1 = s1.swapcase()\n",
    "    return s1\n"
   ]
  },
  {
   "cell_type": "code",
   "execution_count": 19,
   "metadata": {},
   "outputs": [
    {
     "name": "stdout",
     "output_type": "stream",
     "text": [
      "input a stringHello String\n"
     ]
    },
    {
     "data": {
      "text/plain": [
       "'GNIRTs OLLEh'"
      ]
     },
     "execution_count": 19,
     "metadata": {},
     "output_type": "execute_result"
    }
   ],
   "source": [
    "s = input(\"input a string\")\n",
    "reverser(s)"
   ]
  },
  {
   "cell_type": "code",
   "execution_count": 20,
   "metadata": {},
   "outputs": [
    {
     "name": "stdout",
     "output_type": "stream",
     "text": [
      "enter the number of element in list5\n",
      "1\n",
      "2\n",
      "3\n",
      "4\n",
      "5\n",
      "1   [2, 3, 4]   5\n"
     ]
    }
   ],
   "source": [
    "#3\n",
    "n = int(input(\"enter the number of element in list\"))\n",
    "l=[]\n",
    "for i in range(n):\n",
    "    l.append(int(input()))\n",
    "first = l[0]#first element\n",
    "middle = l[1:-1]#middle element\n",
    "last = l[-1]#last element\n",
    "print(first,\" \",middle,\" \",last)"
   ]
  },
  {
   "cell_type": "code",
   "execution_count": 21,
   "metadata": {},
   "outputs": [
    {
     "name": "stdout",
     "output_type": "stream",
     "text": [
      "enter a number5\n"
     ]
    },
    {
     "data": {
      "text/plain": [
       "120"
      ]
     },
     "execution_count": 21,
     "metadata": {},
     "output_type": "execute_result"
    }
   ],
   "source": [
    "#4\n",
    "def fun(n):\n",
    "    \"\"\"\n",
    "    factorial in recursion\n",
    "    \"\"\"\n",
    "    if(n == 0):\n",
    "        return 1\n",
    "    else:\n",
    "        return n*fun(n-1)\n",
    "n = int(input(\"enter a number\"))\n",
    "res = fun(n)\n",
    "res"
   ]
  },
  {
   "cell_type": "code",
   "execution_count": 29,
   "metadata": {},
   "outputs": [
    {
     "name": "stdout",
     "output_type": "stream",
     "text": [
      "enter a list[7,8,9,1,2,3,4]\n",
      "enter a single integer or character which we have to move9\n",
      "[7, 8, 1, 2, 3, 4, 9]\n"
     ]
    }
   ],
   "source": [
    "#5\n",
    "def move_to_end(l,k):\n",
    "    \"\"\"\n",
    "    move all the elements equal to k\n",
    "    at last\n",
    "    \"\"\"\n",
    "    i,c = len(l)-1,0\n",
    "    while(i>=0):\n",
    "        if(l[i] == k & c == 1):\n",
    "            l.remove(k)\n",
    "            l.append(k)\n",
    "        else:\n",
    "            c=1\n",
    "        i=i-1\n",
    "    return l\n",
    "l=eval(input(\"enter a list\"))\n",
    "k=eval(input(\"enter a single integer or character which we have to move\"))\n",
    "print(move_to_end(l,k))"
   ]
  },
  {
   "cell_type": "code",
   "execution_count": null,
   "metadata": {},
   "outputs": [],
   "source": []
  }
 ],
 "metadata": {
  "kernelspec": {
   "display_name": "Python 3",
   "language": "python",
   "name": "python3"
  },
  "language_info": {
   "codemirror_mode": {
    "name": "ipython",
    "version": 3
   },
   "file_extension": ".py",
   "mimetype": "text/x-python",
   "name": "python",
   "nbconvert_exporter": "python",
   "pygments_lexer": "ipython3",
   "version": "3.8.5"
  }
 },
 "nbformat": 4,
 "nbformat_minor": 4
}
