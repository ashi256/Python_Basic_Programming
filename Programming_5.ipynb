{
 "cells": [
  {
   "cell_type": "code",
   "execution_count": 5,
   "metadata": {},
   "outputs": [
    {
     "name": "stdout",
     "output_type": "stream",
     "text": [
      "enter 1st number98\n",
      "enter 2nd number56\n",
      "14\n"
     ]
    }
   ],
   "source": [
    "#2 HCF\n",
    "def gcd(a,b):\n",
    "    if(b == 0):\n",
    "        return a\n",
    "    else:\n",
    "        return gcd(b,a%b)\n",
    "a = int(input(\"enter 1st number\"))\n",
    "b = int(input(\"enter 2nd number\"))\n",
    "print(gcd(a,b))"
   ]
  },
  {
   "cell_type": "code",
   "execution_count": 8,
   "metadata": {},
   "outputs": [
    {
     "name": "stdout",
     "output_type": "stream",
     "text": [
      "enter 1st number10\n",
      "enter 2nd number5\n",
      "10\n"
     ]
    }
   ],
   "source": [
    "#1 LCM\n",
    "a = int(input(\"enter 1st number\"))\n",
    "b = int(input(\"enter 2nd number\"))\n",
    "print(int((a*b)/gcd(a,b)))"
   ]
  },
  {
   "cell_type": "code",
   "execution_count": 13,
   "metadata": {},
   "outputs": [
    {
     "name": "stdout",
     "output_type": "stream",
     "text": [
      "enter 1st number4\n"
     ]
    },
    {
     "data": {
      "text/plain": [
       "100"
      ]
     },
     "execution_count": 13,
     "metadata": {},
     "output_type": "execute_result"
    }
   ],
   "source": [
    "#3 Deci to bin\n",
    "n = int(input(\"enter 1st number\"))\n",
    "s=\"\"\n",
    "while(n!=0):\n",
    "    s += str(n%2)\n",
    "    n=n//2\n",
    "int(s[::-1])"
   ]
  },
  {
   "cell_type": "code",
   "execution_count": 14,
   "metadata": {},
   "outputs": [
    {
     "name": "stdout",
     "output_type": "stream",
     "text": [
      "enter 1st number35631\n"
     ]
    },
    {
     "data": {
      "text/plain": [
       "105457"
      ]
     },
     "execution_count": 14,
     "metadata": {},
     "output_type": "execute_result"
    }
   ],
   "source": [
    "#3 deci to octal\n",
    "n = int(input(\"enter 1st number\"))\n",
    "s=\"\"\n",
    "while(n!=0):\n",
    "    s += str(n%8)\n",
    "    n=n//8\n",
    "int(s[::-1])"
   ]
  },
  {
   "cell_type": "code",
   "execution_count": 19,
   "metadata": {},
   "outputs": [
    {
     "name": "stdout",
     "output_type": "stream",
     "text": [
      "enter 1st number35631\n"
     ]
    },
    {
     "data": {
      "text/plain": [
       "'8B2F'"
      ]
     },
     "execution_count": 19,
     "metadata": {},
     "output_type": "execute_result"
    }
   ],
   "source": [
    "#3 deci to hexa\n",
    "n = int(input(\"enter 1st number\"))\n",
    "s,d=\"\",\"\"\n",
    "while(n!=0):\n",
    "    d =str(n%16)\n",
    "    if(d == '10'):\n",
    "        d = d.replace('10','A')\n",
    "    if(d == '11'):\n",
    "        d = d.replace('11','B')\n",
    "    if(d == '12'):\n",
    "        d = d.replace('12','C')\n",
    "    if(d == '13'):\n",
    "        d = d.replace('13','D')\n",
    "    if(d == '14'):\n",
    "        d = d.replace('14','E')\n",
    "    if(d == '15'):\n",
    "        d = d.replace('15','F')\n",
    "    s += d\n",
    "    n=n//16\n",
    "s[::-1]"
   ]
  },
  {
   "cell_type": "code",
   "execution_count": 24,
   "metadata": {},
   "outputs": [
    {
     "name": "stdout",
     "output_type": "stream",
     "text": [
      "enter a character to know its ASCII valueA\n",
      "65\n"
     ]
    }
   ],
   "source": [
    "#4 ASCII value\n",
    "n = input(\"enter a character to know its ASCII value\")\n",
    "print(ord(n))"
   ]
  },
  {
   "cell_type": "code",
   "execution_count": 26,
   "metadata": {},
   "outputs": [
    {
     "name": "stdout",
     "output_type": "stream",
     "text": [
      "enter   1 - add , 2 -mul, 3-sub, 4-div1\n",
      "enter 1st number2\n",
      "enter 1st number3\n",
      "5\n"
     ]
    }
   ],
   "source": [
    "def add(a,b):\n",
    "    return a+b\n",
    "def mul(a,b):\n",
    "    return a*b\n",
    "def sub(a,b):\n",
    "    return a-b\n",
    "def div(a,b):\n",
    "    return a//b\n",
    "n = int(input(\"enter   1 - add , 2 -mul, 3-sub, 4-div\"))\n",
    "a = int(input(\"enter 1st number\"))\n",
    "b = int(input(\"enter 1st number\"))\n",
    "if(n == 1):\n",
    "    print(add(a,b))\n",
    "elif(n == 2):\n",
    "    print(mul(a,b))\n",
    "elif(n == 3):\n",
    "    print(sub(a,b))\n",
    "elif(n == 4):\n",
    "    print(div(a,b))"
   ]
  },
  {
   "cell_type": "code",
   "execution_count": null,
   "metadata": {},
   "outputs": [],
   "source": []
  }
 ],
 "metadata": {
  "kernelspec": {
   "display_name": "Python 3",
   "language": "python",
   "name": "python3"
  },
  "language_info": {
   "codemirror_mode": {
    "name": "ipython",
    "version": 3
   },
   "file_extension": ".py",
   "mimetype": "text/x-python",
   "name": "python",
   "nbconvert_exporter": "python",
   "pygments_lexer": "ipython3",
   "version": "3.8.5"
  }
 },
 "nbformat": 4,
 "nbformat_minor": 4
}
