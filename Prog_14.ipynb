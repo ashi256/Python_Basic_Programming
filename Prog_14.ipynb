{
 "cells": [
  {
   "cell_type": "code",
   "execution_count": 5,
   "metadata": {},
   "outputs": [
    {
     "name": "stdout",
     "output_type": "stream",
     "text": [
      "enter a stringNew to Python or choosing between Python 2 and Python 3? Read Python 2 or Python 3.\n",
      "2 : 2\n",
      "3. : 1\n",
      "3? : 1\n",
      "New : 1\n",
      "Python : 5\n",
      "Read : 1\n",
      "and : 1\n",
      "between : 1\n",
      "choosing : 1\n",
      "or : 2\n",
      "to : 1\n"
     ]
    }
   ],
   "source": [
    "#2\n",
    "def fun(s):\n",
    "    \"\"\"\n",
    "    print frequency of each letter in alphabetical order\n",
    "    \"\"\"\n",
    "    l =[]\n",
    "    ll=s.split(\" \")\n",
    "    ll.sort()\n",
    "    for i in ll:\n",
    "        if i not in l:\n",
    "            l.append(i)\n",
    "            print(i,\":\",s.count(i))\n",
    "s = input(\"enter a string\")\n",
    "fun(s)"
   ]
  },
  {
   "cell_type": "code",
   "execution_count": 9,
   "metadata": {},
   "outputs": [
    {
     "name": "stdout",
     "output_type": "stream",
     "text": [
      "enter a number range to define a range15\n",
      "0\n",
      "7\n",
      "14\n"
     ]
    }
   ],
   "source": [
    "#1\n",
    "class gen:\n",
    "    def fun(self,n):\n",
    "        for i in range(n):\n",
    "            if i%7 ==0:\n",
    "                yield i\n",
    "n = int(input(\"enter a number range to define a range\"))\n",
    "obj=gen()\n",
    "for i in obj.fun(n):\n",
    "    print(i)"
   ]
  },
  {
   "cell_type": "code",
   "execution_count": 12,
   "metadata": {},
   "outputs": [
    {
     "name": "stdout",
     "output_type": "stream",
     "text": [
      "Female\n"
     ]
    }
   ],
   "source": [
    "#3\n",
    "class Person:\n",
    "    def getGender(self):\n",
    "        print(\"This the parent class\")\n",
    "class Male(Person):\n",
    "    def getGender(self):\n",
    "        print(\"Male\")\n",
    "class Female(Person):\n",
    "    def getGender(self):\n",
    "        print(\"Female\")\n",
    "obj = Female()\n",
    "obj.getGender()"
   ]
  },
  {
   "cell_type": "code",
   "execution_count": 4,
   "metadata": {},
   "outputs": [
    {
     "name": "stdout",
     "output_type": "stream",
     "text": [
      "b'x\\x9c\\xcbH\\xcd\\xc9\\xc9W(\\xcf/\\xcaIQ\\xcc \\x82\\r\\x00\\xbd[\\x11\\xf5'\n",
      "b'hello world!hello world!hello world!hello world!'\n"
     ]
    }
   ],
   "source": [
    "#5\n",
    "import zlib\n",
    "s = 'hello world!hello world!hello world!hello world!'\n",
    "# In Python 3 zlib.compress() accepts only DataType <bytes>\n",
    "y = bytes(s, 'utf-8')\n",
    "x = zlib.compress(y)\n",
    "print(x)\n",
    "print(zlib.decompress(x))"
   ]
  },
  {
   "cell_type": "code",
   "execution_count": 15,
   "metadata": {},
   "outputs": [
    {
     "name": "stdout",
     "output_type": "stream",
     "text": [
      "enter number of elements5\n",
      "enter number to search1\n",
      "enter elements in list\n",
      "3\n",
      "6\n",
      "1\n",
      "7\n",
      "2\n",
      "3\n"
     ]
    }
   ],
   "source": [
    "def search(a,n):\n",
    "    l,h,mid=0,n,0\n",
    "    mid = n//2\n",
    "    while(l < h):\n",
    "        if(a[mid] == x):\n",
    "            return mid+1\n",
    "        elif(a[mid] > x):\n",
    "            h = mid-1\n",
    "        else:\n",
    "            l = mid+1\n",
    "n = int(input('enter number of elements'))\n",
    "x = int(input(\"enter number to search\"))\n",
    "print('enter elements in list')\n",
    "a = []\n",
    "for i in range(n):\n",
    "    a.append(int(input()))\n",
    "print(search(a,n))"
   ]
  },
  {
   "cell_type": "code",
   "execution_count": null,
   "metadata": {},
   "outputs": [],
   "source": []
  }
 ],
 "metadata": {
  "kernelspec": {
   "display_name": "Python 3",
   "language": "python",
   "name": "python3"
  },
  "language_info": {
   "codemirror_mode": {
    "name": "ipython",
    "version": 3
   },
   "file_extension": ".py",
   "mimetype": "text/x-python",
   "name": "python",
   "nbconvert_exporter": "python",
   "pygments_lexer": "ipython3",
   "version": "3.8.5"
  }
 },
 "nbformat": 4,
 "nbformat_minor": 4
}
