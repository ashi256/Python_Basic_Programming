{
 "cells": [
  {
   "cell_type": "code",
   "execution_count": 1,
   "metadata": {},
   "outputs": [
    {
     "name": "stdout",
     "output_type": "stream",
     "text": [
      "enter start of range15\n",
      "end of range20\n",
      "divisor to be checked7\n",
      "[]\n"
     ]
    }
   ],
   "source": [
    "#1\n",
    "def fun(x,y,n):\n",
    "    \"\"\"\n",
    "    return list of numbers divisible by n\n",
    "    in x-y range\n",
    "    \"\"\"\n",
    "    l=[]\n",
    "    for i in range(x,y+1):\n",
    "        if i%n == 0:\n",
    "            l.append(i)\n",
    "    return l\n",
    "x = int(input(\"enter start of range\"))\n",
    "y = int(input(\"end of range\"))\n",
    "n = int(input(\"divisor to be checked\"))\n",
    "print(fun(x,y,n))"
   ]
  },
  {
   "cell_type": "code",
   "execution_count": 7,
   "metadata": {},
   "outputs": [
    {
     "name": "stdout",
     "output_type": "stream",
     "text": [
      "no of elemets to enter5\n",
      "enter the elements1\n",
      "enter the elements2\n",
      "enter the elements3\n",
      "enter the elements4\n",
      "enter the elements5\n",
      "enter the elements0\n",
      "enter the elements1\n",
      "enter the elements2\n",
      "enter the elements3\n",
      "enter the elements4\n"
     ]
    },
    {
     "data": {
      "text/plain": [
       "True"
      ]
     },
     "execution_count": 7,
     "metadata": {},
     "output_type": "execute_result"
    }
   ],
   "source": [
    "#2\n",
    "def fun(l):\n",
    "    \"\"\"\n",
    "    input both the list\n",
    "    \"\"\"\n",
    "    for i in range(n):\n",
    "        l.append(int(input(\"enter the elements\")))\n",
    "    return l\n",
    "def fun2(l,ll):\n",
    "    \"\"\"\n",
    "    determine if the second list is the first\n",
    "list shifted to the right by 1.\n",
    "    \"\"\"\n",
    "    for i in range(1,n):\n",
    "        if ll[i] != l[i-1]:\n",
    "            return False\n",
    "    else:\n",
    "        return True\n",
    "l=[]\n",
    "ll=[]\n",
    "n=int(input(\"no of elemets to enter\"))\n",
    "l = fun(l)\n",
    "ll = fun(ll)\n",
    "fun2(l,ll)"
   ]
  },
  {
   "cell_type": "code",
   "execution_count": 9,
   "metadata": {},
   "outputs": [
    {
     "name": "stdout",
     "output_type": "stream",
     "text": [
      "enter the no of items in list3\n",
      "Adam\n",
      "Sarah\n",
      "MAlcolm\n",
      "ASM\n"
     ]
    }
   ],
   "source": [
    "#3\n",
    "def fun(l):\n",
    "    \"\"\"\n",
    "    return a string with first letter of all the enter words\n",
    "    \"\"\"\n",
    "    s=\"\"\n",
    "    for i in l:\n",
    "        s+=i[0]\n",
    "    return s\n",
    "l=[]\n",
    "n=int(input(\"enter the no of items in list\"))\n",
    "for i in range(n):\n",
    "    l.append(input())\n",
    "print(fun(l))"
   ]
  },
  {
   "cell_type": "code",
   "execution_count": 13,
   "metadata": {},
   "outputs": [
    {
     "name": "stdout",
     "output_type": "stream",
     "text": [
      "Consecutive\n"
     ]
    },
    {
     "data": {
      "text/plain": [
       "'False'"
      ]
     },
     "execution_count": 13,
     "metadata": {},
     "output_type": "execute_result"
    }
   ],
   "source": [
    "#4\n",
    "def fun(s):\n",
    "    \"\"\"\n",
    "    returns either True or False depending on whether or not \n",
    "    its an isogram or not\n",
    "    \"\"\"\n",
    "    for i in s:\n",
    "        if s.count(i)>1:\n",
    "            return False\n",
    "    else:\n",
    "        return True\n",
    "s = input()\n",
    "s = s.lower()\n",
    "fun(s)"
   ]
  },
  {
   "cell_type": "code",
   "execution_count": 11,
   "metadata": {},
   "outputs": [
    {
     "name": "stdout",
     "output_type": "stream",
     "text": [
      "enter a stringxyzz\n"
     ]
    },
    {
     "data": {
      "text/plain": [
       "True"
      ]
     },
     "execution_count": 11,
     "metadata": {},
     "output_type": "execute_result"
    }
   ],
   "source": [
    "#5\n",
    "def fun(s):\n",
    "    \"\"\"\n",
    "    return true if characters are in order or not\n",
    "    \"\"\"\n",
    "    return (all(ord(s[i])>=ord(s[i+1]) for i in range(len(s)-1)) or all(ord(s[i])<=ord(s[i+1]) for i in range(len(s)-1)))\n",
    "s =input(\"enter a string\")\n",
    "fun(s)"
   ]
  },
  {
   "cell_type": "code",
   "execution_count": null,
   "metadata": {},
   "outputs": [],
   "source": []
  },
  {
   "cell_type": "code",
   "execution_count": null,
   "metadata": {},
   "outputs": [],
   "source": []
  }
 ],
 "metadata": {
  "kernelspec": {
   "display_name": "Python 3",
   "language": "python",
   "name": "python3"
  },
  "language_info": {
   "codemirror_mode": {
    "name": "ipython",
    "version": 3
   },
   "file_extension": ".py",
   "mimetype": "text/x-python",
   "name": "python",
   "nbconvert_exporter": "python",
   "pygments_lexer": "ipython3",
   "version": "3.8.5"
  }
 },
 "nbformat": 4,
 "nbformat_minor": 4
}
