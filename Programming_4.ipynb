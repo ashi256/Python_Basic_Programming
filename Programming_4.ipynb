{
 "cells": [
  {
   "cell_type": "code",
   "execution_count": 2,
   "metadata": {},
   "outputs": [
    {
     "name": "stdout",
     "output_type": "stream",
     "text": [
      "6\n"
     ]
    },
    {
     "data": {
      "text/plain": [
       "720"
      ]
     },
     "execution_count": 2,
     "metadata": {},
     "output_type": "execute_result"
    }
   ],
   "source": [
    "#1\n",
    "n = int(input())\n",
    "j=1\n",
    "for i in range(1,n+1):\n",
    "    j=j*i\n",
    "j   "
   ]
  },
  {
   "cell_type": "code",
   "execution_count": 4,
   "metadata": {},
   "outputs": [
    {
     "name": "stdout",
     "output_type": "stream",
     "text": [
      "4\n",
      "4 *  1   4\n",
      "4 *  2   8\n",
      "4 *  3   12\n",
      "4 *  4   16\n",
      "4 *  5   20\n",
      "4 *  6   24\n",
      "4 *  7   28\n",
      "4 *  8   32\n",
      "4 *  9   36\n",
      "4 *  10   40\n"
     ]
    }
   ],
   "source": [
    "#2\n",
    "n = int(input())\n",
    "for i in range(1,11):\n",
    "    print(n,\"* \",i,\" \",n*i)"
   ]
  },
  {
   "cell_type": "code",
   "execution_count": 11,
   "metadata": {},
   "outputs": [
    {
     "name": "stdout",
     "output_type": "stream",
     "text": [
      "7\n",
      "0 1  1  2  3  5  8  13  "
     ]
    }
   ],
   "source": [
    "#3\n",
    "n = int(input())\n",
    "a=0\n",
    "b=1\n",
    "print(a,b,\" \",end=\"\")\n",
    "for i in range(2,n+1):\n",
    "    c =a+b\n",
    "    print(c,\" \",end=\"\")\n",
    "    a=b\n",
    "    b=c\n",
    "    "
   ]
  },
  {
   "cell_type": "code",
   "execution_count": 18,
   "metadata": {},
   "outputs": [
    {
     "name": "stdout",
     "output_type": "stream",
     "text": [
      "153\n",
      "153\n",
      "Armstrong\n"
     ]
    }
   ],
   "source": [
    "#4\n",
    "n = int(input())\n",
    "a=n       \n",
    "p=0\n",
    "while(n!=0):\n",
    "    d=n%10;\n",
    "    p+=(d*d*d)\n",
    "    n=int(n/10);\n",
    "if(p == a):\n",
    "    print(\"Armstrong\")\n",
    "else:\n",
    "    print(\"Not Armstrong\")"
   ]
  },
  {
   "cell_type": "code",
   "execution_count": 26,
   "metadata": {},
   "outputs": [
    {
     "name": "stdout",
     "output_type": "stream",
     "text": [
      "1000\n",
      "1 Armstrong\n",
      "153 Armstrong\n",
      "370 Armstrong\n",
      "371 Armstrong\n",
      "407 Armstrong\n"
     ]
    }
   ],
   "source": [
    "#5\n",
    "T = int(input())\n",
    "for i in range(1,T):\n",
    "    a=i       \n",
    "    p=0\n",
    "    while(a!=0):\n",
    "        d=a%10;\n",
    "        p+=(d*d*d)\n",
    "        a=int(a/10);\n",
    "    if(p == i):\n",
    "        print(i,\"Armstrong\")"
   ]
  },
  {
   "cell_type": "code",
   "execution_count": 28,
   "metadata": {},
   "outputs": [
    {
     "name": "stdout",
     "output_type": "stream",
     "text": [
      "10\n"
     ]
    },
    {
     "data": {
      "text/plain": [
       "55"
      ]
     },
     "execution_count": 28,
     "metadata": {},
     "output_type": "execute_result"
    }
   ],
   "source": [
    "#6\n",
    "n = int(input())\n",
    "s=0\n",
    "for i in range(1,n+1):\n",
    "    s=s+i;\n",
    "s"
   ]
  },
  {
   "cell_type": "code",
   "execution_count": null,
   "metadata": {},
   "outputs": [],
   "source": []
  }
 ],
 "metadata": {
  "kernelspec": {
   "display_name": "Python 3",
   "language": "python",
   "name": "python3"
  },
  "language_info": {
   "codemirror_mode": {
    "name": "ipython",
    "version": 3
   },
   "file_extension": ".py",
   "mimetype": "text/x-python",
   "name": "python",
   "nbconvert_exporter": "python",
   "pygments_lexer": "ipython3",
   "version": "3.8.5"
  }
 },
 "nbformat": 4,
 "nbformat_minor": 4
}
