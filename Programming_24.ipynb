{
 "cells": [
  {
   "cell_type": "code",
   "execution_count": 3,
   "metadata": {},
   "outputs": [
    {
     "name": "stdout",
     "output_type": "stream",
     "text": [
      "enter a number25\n",
      "[1, 2, 3, 40, 5, 6, 7, 80, 9, 10, 11, 120, 13, 14, 15, 160, 17, 18, 19, 200, 21, 22, 23, 240, 25]\n"
     ]
    }
   ],
   "source": [
    "#1\n",
    "def fun(n):\n",
    "    \"\"\"\n",
    "    this function will return a list of number, which, If divided evenly by 4, append after amplifying it by 10,if not then, simply appending it.\n",
    "    \"\"\"\n",
    "    l=[]\n",
    "    for i in range(1,n+1):\n",
    "        if i%4 == 0:\n",
    "            l.append(i*10)\n",
    "        else:\n",
    "            l.append(i)\n",
    "    return l\n",
    "n = int(input(\"enter a number\"))\n",
    "print(fun(n))"
   ]
  },
  {
   "cell_type": "code",
   "execution_count": 3,
   "metadata": {},
   "outputs": [
    {
     "name": "stdout",
     "output_type": "stream",
     "text": [
      "enter a list of integers[0,0,0.77,0,0]\n",
      "0.77\n"
     ]
    }
   ],
   "source": [
    "#2\n",
    "def fun(l):\n",
    "    \"\"\"\n",
    "    return a unique number from a list\n",
    "    \"\"\"\n",
    "    s = set(l)\n",
    "    for i in s:\n",
    "        if l.count(i) == 1:\n",
    "            return i\n",
    "l=eval(input(\"enter a list of integers\"))\n",
    "print(fun(l))"
   ]
  },
  {
   "cell_type": "code",
   "execution_count": 6,
   "metadata": {},
   "outputs": [
    {
     "name": "stdout",
     "output_type": "stream",
     "text": [
      "radius for the circle11\n"
     ]
    },
    {
     "data": {
      "text/plain": [
       "380.132711084365"
      ]
     },
     "execution_count": 6,
     "metadata": {},
     "output_type": "execute_result"
    }
   ],
   "source": [
    "#3\n",
    "from math import pi\n",
    "class circle:\n",
    "    def __init__(self,r):\n",
    "        self.r=r\n",
    "    def getArea(self):\n",
    "        return pi*(self.r**2)\n",
    "    def getPerimeter(self):\n",
    "        return 2*pi*self.r \n",
    "r=int(input(\"radius for the circle\"))\n",
    "circy = circle(r)\n",
    "circy.getArea()"
   ]
  },
  {
   "cell_type": "code",
   "execution_count": 5,
   "metadata": {},
   "outputs": [
    {
     "name": "stdout",
     "output_type": "stream",
     "text": [
      "enter a number4\n",
      "enter elements in list\n",
      "Google\n",
      "Apple\n",
      "Microsoft\n",
      "Facebook\n",
      "['Apple', 'Facebook', 'Google', 'Microsoft']\n"
     ]
    }
   ],
   "source": [
    "#4\n",
    "def fun(l):\n",
    "    \"\"\"\n",
    "    return a list of string in sorted order\n",
    "    \"\"\"\n",
    "    l.sort()\n",
    "    return l\n",
    "l=[]\n",
    "n = int(input(\"enter a number\"))\n",
    "print(\"enter elements in list\")\n",
    "for i in range(0,n):\n",
    "    l.append(input())\n",
    "print(fun(l))"
   ]
  },
  {
   "cell_type": "code",
   "execution_count": 19,
   "metadata": {},
   "outputs": [
    {
     "name": "stdout",
     "output_type": "stream",
     "text": [
      "enter a number13\n",
      "enter a number5\n",
      "enter a number12\n",
      "True\n"
     ]
    }
   ],
   "source": [
    "#5\n",
    "def fun(a,b,c):\n",
    "    \"\"\"\n",
    "    return true of numbers are pythagorian triplets\n",
    "    \"\"\"\n",
    "    aa = a**2\n",
    "    bb = b**2\n",
    "    cc = c**2\n",
    "    if aa+bb == cc or aa+cc == bb or bb+cc == aa:\n",
    "        return True\n",
    "    return False\n",
    "a = int(input(\"enter a number\"))\n",
    "b = int(input(\"enter a number\"))\n",
    "c = int(input(\"enter a number\"))\n",
    "print(fun(a,b,c))"
   ]
  },
  {
   "cell_type": "code",
   "execution_count": null,
   "metadata": {},
   "outputs": [],
   "source": []
  }
 ],
 "metadata": {
  "kernelspec": {
   "display_name": "Python 3",
   "language": "python",
   "name": "python3"
  },
  "language_info": {
   "codemirror_mode": {
    "name": "ipython",
    "version": 3
   },
   "file_extension": ".py",
   "mimetype": "text/x-python",
   "name": "python",
   "nbconvert_exporter": "python",
   "pygments_lexer": "ipython3",
   "version": "3.8.5"
  }
 },
 "nbformat": 4,
 "nbformat_minor": 4
}
