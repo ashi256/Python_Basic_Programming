{
 "cells": [
  {
   "cell_type": "code",
   "execution_count": 3,
   "metadata": {},
   "outputs": [
    {
     "name": "stdout",
     "output_type": "stream",
     "text": [
      "enter a list with string and integers[1,2,3,\"a\",\"b\"]\n"
     ]
    },
    {
     "data": {
      "text/plain": [
       "[1, 2, 3]"
      ]
     },
     "execution_count": 3,
     "metadata": {},
     "output_type": "execute_result"
    }
   ],
   "source": [
    "#1\n",
    "def filter_list(l):\n",
    "    \"\"\"\n",
    "    return a list of integers\n",
    "    \"\"\"\n",
    "    ll=[]\n",
    "    for i in l:\n",
    "        if type(i) == int:\n",
    "            ll.append(i)\n",
    "    return ll\n",
    "l=eval(input(\"enter a list with string and integers\"))\n",
    "filter_list(l)"
   ]
  },
  {
   "cell_type": "code",
   "execution_count": 3,
   "metadata": {},
   "outputs": [
    {
     "name": "stdout",
     "output_type": "stream",
     "text": [
      "number of element to enter in list5\n",
      "enter elements to enter in list\n",
      "5\n",
      "4\n",
      "3\n",
      "2\n",
      "1\n",
      "[5, 5, 5, 5, 5]\n"
     ]
    }
   ],
   "source": [
    "#2\n",
    "def fun(l,n):\n",
    "    \"\"\"\n",
    "    add index to the number at that index\n",
    "    \"\"\"\n",
    "    for i in range(0,n):\n",
    "        l[i] =i+l[i]\n",
    "    return l\n",
    "n = int(input(\"number of element to enter in list\"))\n",
    "print(\"enter elements to enter in list\")\n",
    "l=[]\n",
    "for i in range(0,n):\n",
    "    l.append(int(input()))\n",
    "print(fun(l,n))"
   ]
  },
  {
   "cell_type": "code",
   "execution_count": 1,
   "metadata": {},
   "outputs": [
    {
     "name": "stdout",
     "output_type": "stream",
     "text": [
      "enter height3\n",
      "enter radius2\n",
      "12.56\n"
     ]
    }
   ],
   "source": [
    "#3\n",
    "def fun(h,r):\n",
    "    \"\"\"\n",
    "    returns the volume of the cone\n",
    "    \"\"\"\n",
    "    a = (3.14*h*(r**2))/3\n",
    "    return round(a,2)\n",
    "h = int(input(\"enter height\"))\n",
    "r = int(input(\"enter radius\"))\n",
    "print(fun(h,r))"
   ]
  },
  {
   "cell_type": "code",
   "execution_count": 6,
   "metadata": {},
   "outputs": [
    {
     "name": "stdout",
     "output_type": "stream",
     "text": [
      "enter a number215\n",
      "23220\n"
     ]
    }
   ],
   "source": [
    "#4\n",
    "def fun(n):\n",
    "    \"\"\"\n",
    "    function that gives the number of dots with \n",
    "    its corresponding triangle number of the\n",
    "sequence.\n",
    "    \"\"\"\n",
    "    s=1\n",
    "    for i in range(2,n+1):\n",
    "        s=s+i\n",
    "    return s\n",
    "n=int(input(\"enter a number\"))\n",
    "print(fun(n))"
   ]
  },
  {
   "cell_type": "code",
   "execution_count": 2,
   "metadata": {},
   "outputs": [
    {
     "name": "stdout",
     "output_type": "stream",
     "text": [
      "enter length of list5\n",
      "enter list elements\n",
      "1\n",
      "2\n",
      "6\n",
      "4\n",
      "5\n"
     ]
    },
    {
     "data": {
      "text/plain": [
       "3"
      ]
     },
     "execution_count": 2,
     "metadata": {},
     "output_type": "execute_result"
    }
   ],
   "source": [
    "#5\n",
    "def missing_num():\n",
    "    \"\"\"\n",
    "    return the missing number\n",
    "    \"\"\"\n",
    "    l=[]\n",
    "    n = int(input(\"enter length of list\"))\n",
    "    print(\"enter list elements\")\n",
    "    for i in range(n):\n",
    "        l.append(int(input()))\n",
    "    for i in range(1,10):\n",
    "        if i not in l:\n",
    "            return i\n",
    "missing_num()"
   ]
  },
  {
   "cell_type": "code",
   "execution_count": null,
   "metadata": {},
   "outputs": [],
   "source": []
  }
 ],
 "metadata": {
  "kernelspec": {
   "display_name": "Python 3",
   "language": "python",
   "name": "python3"
  },
  "language_info": {
   "codemirror_mode": {
    "name": "ipython",
    "version": 3
   },
   "file_extension": ".py",
   "mimetype": "text/x-python",
   "name": "python",
   "nbconvert_exporter": "python",
   "pygments_lexer": "ipython3",
   "version": "3.8.5"
  }
 },
 "nbformat": 4,
 "nbformat_minor": 4
}
