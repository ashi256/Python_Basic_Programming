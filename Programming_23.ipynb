{
 "cells": [
  {
   "cell_type": "code",
   "execution_count": 2,
   "metadata": {},
   "outputs": [
    {
     "name": "stdout",
     "output_type": "stream",
     "text": [
      "enter a number 9939\n"
     ]
    },
    {
     "data": {
      "text/plain": [
       "False"
      ]
     },
     "execution_count": 2,
     "metadata": {},
     "output_type": "execute_result"
    }
   ],
   "source": [
    "#1\n",
    "def fun(n):\n",
    "    \"\"\"\n",
    "    this function will return if a number is symmetrical or not\n",
    "    \"\"\"\n",
    "    s = str(n)\n",
    "    if s == s[::-1]:\n",
    "        return True\n",
    "    else:\n",
    "        return False\n",
    "n = int(input(\"enter a number \"))\n",
    "fun(n)"
   ]
  },
  {
   "cell_type": "code",
   "execution_count": 3,
   "metadata": {},
   "outputs": [
    {
     "name": "stdout",
     "output_type": "stream",
     "text": [
      "enter a string of number separated by comma1,2,3,4\n",
      "24\n"
     ]
    }
   ],
   "source": [
    "#2\n",
    "def fun(s):\n",
    "    \"\"\"\n",
    "    this function will return the product of numbers \n",
    "    \"\"\"\n",
    "    l,p=[],1\n",
    "    l=s.split(\",\")\n",
    "    for i in l:\n",
    "        p*=int(i)\n",
    "    return p\n",
    "s = input(\"enter a string of number separated by comma\")\n",
    "print(fun(s))"
   ]
  },
  {
   "cell_type": "code",
   "execution_count": 4,
   "metadata": {},
   "outputs": [
    {
     "name": "stdout",
     "output_type": "stream",
     "text": [
      "enter a number2483\n"
     ]
    },
    {
     "data": {
      "text/plain": [
       "416649"
      ]
     },
     "execution_count": 4,
     "metadata": {},
     "output_type": "execute_result"
    }
   ],
   "source": [
    "#3\n",
    "def fun(n):\n",
    "    \"\"\"\n",
    "    this function will return square of every digit of a number\n",
    "    \"\"\"\n",
    "    s,ss=str(n),\"\"\n",
    "    for i in s:\n",
    "        t2 = int(i)**2\n",
    "        ss += str(t2)\n",
    "    return int(ss)\n",
    "n=int(input(\"enter a number\"))\n",
    "fun(n)"
   ]
  },
  {
   "cell_type": "code",
   "execution_count": 5,
   "metadata": {},
   "outputs": [
    {
     "name": "stdout",
     "output_type": "stream",
     "text": [
      "enter the no of element in list5\n",
      "enter the elements in the list\n",
      "1\n",
      "3\n",
      "3\n",
      "5\n",
      "5\n",
      "[1, 3, 5]\n"
     ]
    }
   ],
   "source": [
    "#4\n",
    "def fun(l):\n",
    "    \"\"\"\n",
    "    function sort list and remove the duplicates\n",
    "    \"\"\"\n",
    "    l.sort()\n",
    "    l = set(l)\n",
    "    l =list(l)\n",
    "    return l\n",
    "l=[]\n",
    "n = int(input(\"enter the no of element in list\"))\n",
    "print(\"enter the elements in the list\")\n",
    "for i in range(n):\n",
    "    l.append(int(input()))\n",
    "print(fun(l))"
   ]
  },
  {
   "cell_type": "code",
   "execution_count": 6,
   "metadata": {},
   "outputs": [
    {
     "name": "stdout",
     "output_type": "stream",
     "text": [
      "enter a number666\n",
      "6\n"
     ]
    }
   ],
   "source": [
    "#5\n",
    "def fun(n):\n",
    "    \"\"\"\n",
    "    it will return mean of all the digits\n",
    "    \"\"\"\n",
    "    s,c=0,0\n",
    "    while(n!=0):\n",
    "        s+=n%10\n",
    "        c=c+1\n",
    "        n=int(n/10)\n",
    "    return int(s/c)\n",
    "n = int(input(\"enter a number\"))\n",
    "print(fun(n))"
   ]
  },
  {
   "cell_type": "code",
   "execution_count": null,
   "metadata": {},
   "outputs": [],
   "source": []
  }
 ],
 "metadata": {
  "kernelspec": {
   "display_name": "Python 3",
   "language": "python",
   "name": "python3"
  },
  "language_info": {
   "codemirror_mode": {
    "name": "ipython",
    "version": 3
   },
   "file_extension": ".py",
   "mimetype": "text/x-python",
   "name": "python",
   "nbconvert_exporter": "python",
   "pygments_lexer": "ipython3",
   "version": "3.8.5"
  }
 },
 "nbformat": 4,
 "nbformat_minor": 4
}
