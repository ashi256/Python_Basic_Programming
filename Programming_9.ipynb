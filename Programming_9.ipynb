{
 "cells": [
  {
   "cell_type": "code",
   "execution_count": 1,
   "metadata": {},
   "outputs": [
    {
     "name": "stdout",
     "output_type": "stream",
     "text": [
      "enter a number89\n",
      "Disarium Number\n"
     ]
    }
   ],
   "source": [
    "#1\n",
    "n = int(input(\"enter a number\"))\n",
    "a,b,c,d = n,n,0,0\n",
    "while(a!=0):\n",
    "    c=c+1\n",
    "    a = int(a/10)\n",
    "while(n!=0):\n",
    "    d = d+(int(n%10)**c)\n",
    "    c=c-1\n",
    "    n=int(n/10)\n",
    "\n",
    "if(d == b):\n",
    "    print(\"Disarium Number\")\n",
    "else:\n",
    "    print(\"Not Disarium Number\")"
   ]
  },
  {
   "cell_type": "code",
   "execution_count": 1,
   "metadata": {},
   "outputs": [
    {
     "name": "stdout",
     "output_type": "stream",
     "text": [
      "1\n",
      "2\n",
      "3\n",
      "4\n",
      "5\n",
      "6\n",
      "7\n",
      "8\n",
      "9\n",
      "89\n"
     ]
    }
   ],
   "source": [
    "#2\n",
    "for n in range(1,100):\n",
    "    a,b,c,d = n,n,0,0\n",
    "    while(a!=0):\n",
    "        c=c+1\n",
    "        a = int(a/10)\n",
    "    while(n!=0):\n",
    "        d = d+(int(n%10)**c)\n",
    "        c=c-1\n",
    "        n=int(n/10)\n",
    "\n",
    "    if(d == b):\n",
    "        print(d)\n",
    "   "
   ]
  },
  {
   "cell_type": "code",
   "execution_count": 1,
   "metadata": {},
   "outputs": [
    {
     "name": "stdout",
     "output_type": "stream",
     "text": [
      "82\n",
      "Happy Number\n"
     ]
    }
   ],
   "source": [
    "#3\n",
    "n = int(input())\n",
    "def square_sum(n):\n",
    "    s=0\n",
    "    while(n!=0):\n",
    "        s+=((n%10)**2)\n",
    "        n=n//10\n",
    "    return s\n",
    "c =square_sum(n)\n",
    "c=n\n",
    "while(c != 1 and c != 4):\n",
    "    c=square_sum(c)\n",
    "if(c == 1):#happy number ends with 1\n",
    "    print(\"Happy Number\")\n",
    "if(c==4):#unhappy number ends with a cycle of 4\n",
    "    print(\"Not Happy Number\")   "
   ]
  },
  {
   "cell_type": "code",
   "execution_count": 3,
   "metadata": {},
   "outputs": [
    {
     "name": "stdout",
     "output_type": "stream",
     "text": [
      "100\n",
      "[1, 7, 10, 13, 19, 23, 28, 31, 32, 44, 49, 68, 70, 79, 82, 86, 91, 94, 97]\n"
     ]
    }
   ],
   "source": [
    "#4\n",
    "n = int(input())\n",
    "l=[]\n",
    "def square_sum(n):\n",
    "    s=0\n",
    "    while(n!=0):\n",
    "        s+=((n%10)**2)\n",
    "        n=n//10\n",
    "    return s\n",
    "\n",
    "for i in range(1,n):\n",
    "    c =square_sum(i)\n",
    "    c=i\n",
    "    while(c != 1 and c != 4):\n",
    "        c=square_sum(c)\n",
    "    if(c == 1):#happy number ends with 1 \n",
    "        l.append(i)\n",
    "print(l)"
   ]
  },
  {
   "cell_type": "code",
   "execution_count": 9,
   "metadata": {},
   "outputs": [
    {
     "name": "stdout",
     "output_type": "stream",
     "text": [
      "18\n",
      "Harshad Number\n"
     ]
    }
   ],
   "source": [
    "#5\n",
    "n = int(input())\n",
    "a = n\n",
    "c=0\n",
    "while(a!=0):\n",
    "    c=c+(int(a%10))\n",
    "    a = int(a/10)\n",
    "\n",
    "if(n%c == 0):\n",
    "    print(\"Harshad Number\")\n",
    "else:\n",
    "    print(\"Not Harshad Number\")"
   ]
  },
  {
   "cell_type": "code",
   "execution_count": 10,
   "metadata": {},
   "outputs": [
    {
     "name": "stdout",
     "output_type": "stream",
     "text": [
      "90\n",
      "Pronic Number\n"
     ]
    }
   ],
   "source": [
    "#6\n",
    "n = int(input())\n",
    "c=0\n",
    "for i in range(n):\n",
    "    if(i*(i+1) == n):\n",
    "        c=1\n",
    "        break\n",
    "if(c == 1):\n",
    "    print(\"Pronic Number\")\n",
    "else:\n",
    "    print(\"Not Pronic Number\")"
   ]
  },
  {
   "cell_type": "code",
   "execution_count": null,
   "metadata": {},
   "outputs": [],
   "source": []
  }
 ],
 "metadata": {
  "kernelspec": {
   "display_name": "Python 3",
   "language": "python",
   "name": "python3"
  },
  "language_info": {
   "codemirror_mode": {
    "name": "ipython",
    "version": 3
   },
   "file_extension": ".py",
   "mimetype": "text/x-python",
   "name": "python",
   "nbconvert_exporter": "python",
   "pygments_lexer": "ipython3",
   "version": "3.8.5"
  }
 },
 "nbformat": 4,
 "nbformat_minor": 4
}
