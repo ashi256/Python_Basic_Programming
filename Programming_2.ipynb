{
 "cells": [
  {
   "cell_type": "code",
   "execution_count": 1,
   "metadata": {},
   "outputs": [
    {
     "name": "stdout",
     "output_type": "stream",
     "text": [
      "89\n",
      "55.302019\n"
     ]
    }
   ],
   "source": [
    "#1 km - miles\n",
    "n = float(input())\n",
    "print(0.621371*n)"
   ]
  },
  {
   "cell_type": "code",
   "execution_count": 2,
   "metadata": {},
   "outputs": [
    {
     "name": "stdout",
     "output_type": "stream",
     "text": [
      "42\n",
      "1419.6\n"
     ]
    }
   ],
   "source": [
    "#2 C to F\n",
    "n = float(input())\n",
    "print(33.8*n)   "
   ]
  },
  {
   "cell_type": "code",
   "execution_count": 2,
   "metadata": {},
   "outputs": [
    {
     "name": "stdout",
     "output_type": "stream",
     "text": [
      "4\n",
      "1999\n",
      "     April 1999\n",
      "Mo Tu We Th Fr Sa Su\n",
      "          1  2  3  4\n",
      " 5  6  7  8  9 10 11\n",
      "12 13 14 15 16 17 18\n",
      "19 20 21 22 23 24 25\n",
      "26 27 28 29 30\n",
      "\n"
     ]
    }
   ],
   "source": [
    "#3 display calender\n",
    "import calendar\n",
    "m = int(input())\n",
    "y = int(input())\n",
    "print(calendar.month(y,m))"
   ]
  },
  {
   "cell_type": "code",
   "execution_count": 12,
   "metadata": {},
   "outputs": [
    {
     "name": "stdout",
     "output_type": "stream",
     "text": [
      "1\n",
      "5\n",
      "6\n",
      "(-2+0j) (-3+0j)\n"
     ]
    }
   ],
   "source": [
    "#4 \n",
    "import cmath\n",
    "a = int(input())\n",
    "b = int(input())\n",
    "c = int(input())\n",
    "r1 = (-b + cmath.sqrt((b*b)-(4*a*c)))/(2*a)\n",
    "r2 = (-b - cmath.sqrt((b*b)-(4*a*c)))/(2*a)\n",
    "print(r1,r2)"
   ]
  },
  {
   "cell_type": "code",
   "execution_count": 3,
   "metadata": {},
   "outputs": [
    {
     "name": "stdout",
     "output_type": "stream",
     "text": [
      "6\n",
      "5\n",
      "5 6\n"
     ]
    }
   ],
   "source": [
    "#5\n",
    "a = int(input())\n",
    "b = int(input())\n",
    "a = a + b                 \n",
    "b = a - b\n",
    "a = a - b\n",
    "print(a,b)"
   ]
  },
  {
   "cell_type": "code",
   "execution_count": null,
   "metadata": {},
   "outputs": [],
   "source": []
  }
 ],
 "metadata": {
  "kernelspec": {
   "display_name": "Python 3",
   "language": "python",
   "name": "python3"
  },
  "language_info": {
   "codemirror_mode": {
    "name": "ipython",
    "version": 3
   },
   "file_extension": ".py",
   "mimetype": "text/x-python",
   "name": "python",
   "nbconvert_exporter": "python",
   "pygments_lexer": "ipython3",
   "version": "3.8.5"
  }
 },
 "nbformat": 4,
 "nbformat_minor": 4
}
