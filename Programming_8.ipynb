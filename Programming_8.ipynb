{
 "cells": [
  {
   "cell_type": "code",
   "execution_count": 1,
   "metadata": {},
   "outputs": [],
   "source": [
    "#1\n",
    "def fun(m,n):\n",
    "    \"\"\"\n",
    "    enter and return a matrix\n",
    "    \"\"\"\n",
    "    for i in range(n):\n",
    "        m.append([])\n",
    "        for j in range(n):\n",
    "            a = int(input())\n",
    "            m[i].append(a)\n",
    "    return m\n",
    "def add(m1,m2,n):\n",
    "    \"\"\"\n",
    "    add 2 matrix passed to it and return a matrix\n",
    "    \"\"\"\n",
    "    for i in range(n):\n",
    "        for j in range(n):\n",
    "            m1[i][j] = m1[i][j]+m2[i][j]\n",
    "    return m1"
   ]
  },
  {
   "cell_type": "code",
   "execution_count": 3,
   "metadata": {},
   "outputs": [
    {
     "name": "stdout",
     "output_type": "stream",
     "text": [
      "enter number of elements to enter in row amd col2\n",
      "1\n",
      "2\n",
      "3\n",
      "4\n",
      "5\n",
      "6\n",
      "7\n",
      "8\n",
      "[[1, 2], [3, 4]]\n",
      "[[5, 6], [7, 8]]\n",
      "[[6, 8], [10, 12]]\n"
     ]
    }
   ],
   "source": [
    "n = int(input(\"enter number of elements to enter in row amd col\"))\n",
    "m1,m2=[],[]\n",
    "m1,m2 = fun(m1,n),fun(m2,n)\n",
    "print(m1)\n",
    "print(m2)\n",
    "m1 = add(m1,m2,n)\n",
    "print(m1)"
   ]
  },
  {
   "cell_type": "code",
   "execution_count": 10,
   "metadata": {},
   "outputs": [
    {
     "name": "stdout",
     "output_type": "stream",
     "text": [
      "enter number of elements to enter in row amd col2\n",
      "1\n",
      "2\n",
      "3\n",
      "4\n",
      "1\n",
      "2\n",
      "3\n",
      "4\n",
      "[[1, 2], [3, 4]]\n",
      "[[1, 2], [3, 4]]\n",
      "[[0, 0], [0, 0]]\n",
      "[[1, 6], [6, 16]]\n"
     ]
    }
   ],
   "source": [
    "#2\n",
    "def fun(m,n):\n",
    "    \"\"\"\n",
    "    enter and return a matrix\n",
    "    \"\"\"\n",
    "    for i in range(n):\n",
    "        m.append([])\n",
    "        for j in range(n):\n",
    "            a = int(input())\n",
    "            m[i].append(a)\n",
    "    return m\n",
    "def mul(m1,m2,n,m):\n",
    "    for i in range(n):\n",
    "        for j in range(n):\n",
    "            m[i][j] += m1[i][j]*m2[j][i]\n",
    "    return m\n",
    "n = int(input(\"enter number of elements to enter in row amd col\"))\n",
    "m1,m2,m=[],[],[]\n",
    "for i in range(n):\n",
    "        m.append([0 for j in range(n)])\n",
    "m1,m2 = fun(m1,n),fun(m2,n)\n",
    "print(m1)\n",
    "print(m2)\n",
    "print(m)\n",
    "m1 = mul(m1,m2,n,m)\n",
    "print(m1)"
   ]
  },
  {
   "cell_type": "code",
   "execution_count": 5,
   "metadata": {},
   "outputs": [
    {
     "name": "stdout",
     "output_type": "stream",
     "text": [
      "enter number of elements to enter in row amd col3\n",
      "1\n",
      "2\n",
      "3\n",
      "4\n",
      "5\n",
      "6\n",
      "7\n",
      "8\n",
      "9\n",
      "[[1, 2, 3], [4, 5, 6], [7, 8, 9]]\n",
      "[[1, 4, 7], [4, 5, 8], [7, 8, 9]]\n"
     ]
    }
   ],
   "source": [
    "#3\n",
    "def fun(m,n):\n",
    "    \"\"\"\n",
    "    enter and return a matrix\n",
    "    \"\"\"\n",
    "    for i in range(n):\n",
    "        m.append([])\n",
    "        for j in range(n):\n",
    "            a = int(input())\n",
    "            m[i].append(a)\n",
    "    return m\n",
    "def transpose(m1,n):\n",
    "    for i in range(n):\n",
    "        for j in range(n):\n",
    "            m1[i][j] = m1[j][i]\n",
    "    return m1\n",
    "n = int(input(\"enter number of elements to enter in row amd col\"))\n",
    "m1=[]\n",
    "m1= fun(m1,n)\n",
    "print(m1)\n",
    "print(transpose(m1,n))"
   ]
  },
  {
   "cell_type": "code",
   "execution_count": 4,
   "metadata": {},
   "outputs": [
    {
     "name": "stdout",
     "output_type": "stream",
     "text": [
      "enter a wordapple\n",
      "aelpp\n"
     ]
    }
   ],
   "source": [
    "#4\n",
    "s = input(\"enter a word\")\n",
    "l=list(s)\n",
    "l.sort()\n",
    "print(\"\".join(l))"
   ]
  },
  {
   "cell_type": "code",
   "execution_count": 11,
   "metadata": {},
   "outputs": [
    {
     "name": "stdout",
     "output_type": "stream",
     "text": [
      "enter a string with puncuation Ayushi, is learning : python!\n"
     ]
    },
    {
     "data": {
      "text/plain": [
       "'Ayushi is learning  python'"
      ]
     },
     "execution_count": 11,
     "metadata": {},
     "output_type": "execute_result"
    }
   ],
   "source": [
    "#5\n",
    "import re\n",
    "s=input(\"enter a string with puncuation \")\n",
    "res = re.sub(r'[^\\w\\s]', '', s)\n",
    "res"
   ]
  },
  {
   "cell_type": "code",
   "execution_count": null,
   "metadata": {},
   "outputs": [],
   "source": []
  }
 ],
 "metadata": {
  "kernelspec": {
   "display_name": "Python 3",
   "language": "python",
   "name": "python3"
  },
  "language_info": {
   "codemirror_mode": {
    "name": "ipython",
    "version": 3
   },
   "file_extension": ".py",
   "mimetype": "text/x-python",
   "name": "python",
   "nbconvert_exporter": "python",
   "pygments_lexer": "ipython3",
   "version": "3.8.5"
  }
 },
 "nbformat": 4,
 "nbformat_minor": 4
}
