{
 "cells": [
  {
   "cell_type": "code",
   "execution_count": 26,
   "metadata": {},
   "outputs": [
    {
     "name": "stdout",
     "output_type": "stream",
     "text": [
      "comma seperated integer100,150,180\n",
      "18,22,24"
     ]
    }
   ],
   "source": [
    "#1\n",
    "import math\n",
    "s =input(\"comma seperated integer\")\n",
    "l,c = s.split(\",\"),0\n",
    "for d in l:\n",
    "    c=c+1\n",
    "    print (int((math.sqrt((2*50*int(d))/30))),end=\"\")\n",
    "    if c != len(l):\n",
    "        print(end =\",\")"
   ]
  },
  {
   "cell_type": "code",
   "execution_count": 14,
   "metadata": {},
   "outputs": [
    {
     "name": "stdout",
     "output_type": "stream",
     "text": [
      "enter the number of row to enter3\n",
      "enter the number of col to enter5\n"
     ]
    },
    {
     "data": {
      "text/plain": [
       "[[0, 0, 0, 0, 0], [0, 1, 2, 3, 4], [0, 2, 4, 6, 8]]"
      ]
     },
     "execution_count": 14,
     "metadata": {},
     "output_type": "execute_result"
    }
   ],
   "source": [
    "#2\n",
    "n =int(input(\"enter the number of row to enter\"))\n",
    "m = int(input(\"enter the number of col to enter\"))\n",
    "l,ll=[],[]\n",
    "for i in range(0,n):\n",
    "    l=[]\n",
    "    for j in range(0,m):\n",
    "        l.append(i*j)\n",
    "    ll.append(l)\n",
    "ll"
   ]
  },
  {
   "cell_type": "code",
   "execution_count": 24,
   "metadata": {},
   "outputs": [
    {
     "name": "stdout",
     "output_type": "stream",
     "text": [
      "enter comma separated wordwithout,hello,bag,world\n",
      "bag,hello,without,world"
     ]
    }
   ],
   "source": [
    "#3\n",
    "s = input(\"enter comma separated word\")\n",
    "l = s.split(\",\")\n",
    "l.sort()\n",
    "c=0\n",
    "for i in l:\n",
    "    c=c+1\n",
    "    print(i,end=\"\")\n",
    "    if c != len(l):\n",
    "        print(end =\",\")"
   ]
  },
  {
   "cell_type": "code",
   "execution_count": 33,
   "metadata": {},
   "outputs": [
    {
     "name": "stdout",
     "output_type": "stream",
     "text": [
      "enter a sentencehello world and practice makes perfect and hello world again\n",
      "output \n",
      "again and hello makes perfect practice world "
     ]
    }
   ],
   "source": [
    "#4\n",
    "s = input(\"enter a sentence\")\n",
    "se = set(s.split(\" \"))\n",
    "l = list(se)\n",
    "l.sort()\n",
    "print(\"output \")\n",
    "for i in l:\n",
    "    print(i,end=\" \")"
   ]
  },
  {
   "cell_type": "code",
   "execution_count": 40,
   "metadata": {},
   "outputs": [
    {
     "name": "stdout",
     "output_type": "stream",
     "text": [
      "enter alphanumeric stringhello world! 123\n",
      "LETTERS  10\n",
      "DIGITS  3\n"
     ]
    }
   ],
   "source": [
    "#5\n",
    "s = input(\"enter alphanumeric string\")\n",
    "a,n=0,0\n",
    "for i in s:\n",
    "    if i.isalpha():\n",
    "        a=a+1\n",
    "    if i.isnumeric():\n",
    "        n=n+1\n",
    "print(\"LETTERS \",a)\n",
    "print(\"DIGITS \",n)"
   ]
  },
  {
   "cell_type": "code",
   "execution_count": 18,
   "metadata": {
    "scrolled": true
   },
   "outputs": [
    {
     "name": "stdout",
     "output_type": "stream",
     "text": [
      "enter cooma separated passwordABd1234@1,a F1#,2w3E*,2We3345\n",
      "1 1 1 2 5\n",
      "ABd1234@1\n",
      "1 1 0 1 5\n"
     ]
    }
   ],
   "source": [
    "#6\n",
    "def func(ss):\n",
    "    \"\"\"\n",
    "    validate password\n",
    "    \"\"\"\n",
    "    l=ss.split(\",\")\n",
    "    for j in l:\n",
    "        le,n,al,au,s=0,0,0,0,0\n",
    "        if (len(j)>=6) & (len(j)<=12) :\n",
    "                le=le+1\n",
    "        else:\n",
    "            continue \n",
    "        for i in j:\n",
    "            if i.isnumeric():\n",
    "                n=n+1\n",
    "            if (i.isalpha()) & (i.islower()):\n",
    "                al=al+1\n",
    "            if (i.isalpha()) & (i.isupper()):\n",
    "                au=au+1\n",
    "            if i in ['$','#','@']:\n",
    "                s=s+1\n",
    "        print(le,al,s,au,n)\n",
    "        if (le>0) & (al>0) & (au>0) & (s>0):\n",
    "            print(j)\n",
    "                      \n",
    "s = input(\"enter cooma separated password\")\n",
    "func(s)"
   ]
  },
  {
   "cell_type": "code",
   "execution_count": null,
   "metadata": {},
   "outputs": [],
   "source": []
  }
 ],
 "metadata": {
  "kernelspec": {
   "display_name": "Python 3",
   "language": "python",
   "name": "python3"
  },
  "language_info": {
   "codemirror_mode": {
    "name": "ipython",
    "version": 3
   },
   "file_extension": ".py",
   "mimetype": "text/x-python",
   "name": "python",
   "nbconvert_exporter": "python",
   "pygments_lexer": "ipython3",
   "version": "3.8.5"
  }
 },
 "nbformat": 4,
 "nbformat_minor": 4
}
