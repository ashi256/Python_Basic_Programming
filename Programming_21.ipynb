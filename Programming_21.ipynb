{
 "cells": [
  {
   "cell_type": "code",
   "execution_count": 3,
   "metadata": {},
   "outputs": [
    {
     "name": "stdout",
     "output_type": "stream",
     "text": [
      "No of element in the list5\n",
      "No to append in the list1\n",
      "7\n",
      "6\n",
      "3\n",
      "23\n",
      "17\n",
      "[6, 3, 23, 17, 1]\n"
     ]
    }
   ],
   "source": [
    "#1\n",
    "def fun(l,n):\n",
    "    \"\"\"\n",
    "    append a new number and remove first\n",
    "    \"\"\"\n",
    "    l.append(n)\n",
    "    l.remove(l[0])\n",
    "    return l\n",
    "l =[]\n",
    "m=int(input(\"No of element in the list\"))\n",
    "n=int(input(\"No to append in the list\"))\n",
    "for i in range(m):\n",
    "    l.append(int(input()))\n",
    "print(fun(l,n))"
   ]
  },
  {
   "cell_type": "code",
   "execution_count": 10,
   "metadata": {},
   "outputs": [
    {
     "name": "stdout",
     "output_type": "stream",
     "text": [
      "No of dictionary to enter3\n",
      "Enter the nameJohn\n",
      "Enter the age21\n",
      "Enter the budget23000\n",
      "Enter the nameSteve\n",
      "Enter the age32\n",
      "Enter the budget40000\n",
      "Enter the nameMartin\n",
      "Enter the age16\n",
      "Enter the budget2700\n",
      "[{'name': 'John', 'age': 21, 'budget': 23000}, {'name': 'Steve', 'age': 32, 'budget': 40000}, {'name': 'Martin', 'age': 16, 'budget': 2700}]\n",
      "65700\n"
     ]
    }
   ],
   "source": [
    "#2\n",
    "def fun(l):\n",
    "    \"\"\"\n",
    "    return the sum of people's budgets\n",
    "    \"\"\"\n",
    "    s=0\n",
    "    for i in l:\n",
    "        s+=i[\"budget\"]\n",
    "    return s\n",
    "l=[]\n",
    "n = int(input(\"enter No of element in dictionary\"))\n",
    "for i in range(n):\n",
    "    l.append({\"name\":input(\"Enter the name\"),\"age\":int(input(\"Enter the age\")),\"budget\":int(input(\"Enter the budget\"))})\n",
    "print(l)\n",
    "print(fun(l))"
   ]
  },
  {
   "cell_type": "code",
   "execution_count": 5,
   "metadata": {},
   "outputs": [
    {
     "name": "stdout",
     "output_type": "stream",
     "text": [
      "enter a stringhello\n",
      "ehllo\n"
     ]
    }
   ],
   "source": [
    "#3\n",
    "def fun(s):\n",
    "    \"\"\"\n",
    "    return string in alphabetical order\n",
    "    \"\"\"\n",
    "    l = sorted(s)\n",
    "    s = \"\".join(l)\n",
    "    return s\n",
    "s = input(\"enter a string\")\n",
    "print(fun(s))"
   ]
  },
  {
   "cell_type": "code",
   "execution_count": 6,
   "metadata": {},
   "outputs": [
    {
     "name": "stdout",
     "output_type": "stream",
     "text": [
      "enter investement10000\n",
      "enter years10\n",
      "enter rate0.06\n",
      "enter componding period12\n",
      "18193.97\n"
     ]
    }
   ],
   "source": [
    "#4\n",
    "def fun(p,t,r,n):\n",
    "    \"\"\"\n",
    "    return compound interset\n",
    "    \"\"\"\n",
    "    r1,rr = 1+(r/n),n*t\n",
    "    return p*(r1**rr)       \n",
    "p=int(input(\"enter investement\"))\n",
    "t=int(input(\"enter years\"))\n",
    "r=float(input(\"enter rate\"))\n",
    "n=int(input(\"enter componding period\"))\n",
    "print(round(fun(p,t,r,n),2))"
   ]
  },
  {
   "cell_type": "code",
   "execution_count": 1,
   "metadata": {},
   "outputs": [
    {
     "name": "stdout",
     "output_type": "stream",
     "text": [
      "enter a list with string and integers[1,2,3,\"a\",\"b\"]\n"
     ]
    },
    {
     "data": {
      "text/plain": [
       "[1, 2, 3]"
      ]
     },
     "execution_count": 1,
     "metadata": {},
     "output_type": "execute_result"
    }
   ],
   "source": [
    "#5\n",
    "def filter_list(l):\n",
    "    \"\"\"\n",
    "    return a list of integers\n",
    "    \"\"\"\n",
    "    ll=[]\n",
    "    for i in l:\n",
    "        if type(i) == int:\n",
    "            ll.append(i)\n",
    "    return ll\n",
    "l=eval(input(\"enter a list with string and integers\"))\n",
    "filter_list(l)"
   ]
  },
  {
   "cell_type": "code",
   "execution_count": null,
   "metadata": {},
   "outputs": [],
   "source": []
  }
 ],
 "metadata": {
  "kernelspec": {
   "display_name": "Python 3",
   "language": "python",
   "name": "python3"
  },
  "language_info": {
   "codemirror_mode": {
    "name": "ipython",
    "version": 3
   },
   "file_extension": ".py",
   "mimetype": "text/x-python",
   "name": "python",
   "nbconvert_exporter": "python",
   "pygments_lexer": "ipython3",
   "version": "3.8.5"
  }
 },
 "nbformat": 4,
 "nbformat_minor": 4
}
