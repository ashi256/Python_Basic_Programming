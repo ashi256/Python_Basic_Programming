{
 "cells": [
  {
   "cell_type": "code",
   "execution_count": 2,
   "metadata": {},
   "outputs": [
    {
     "name": "stdout",
     "output_type": "stream",
     "text": [
      "My name is ayushi krishna\n",
      "2\n",
      "name\n",
      "ayushi\n",
      "krishna\n"
     ]
    }
   ],
   "source": [
    "#1\n",
    "s = input()\n",
    "k = int(input())#k=2 then print words that are greater than 2\n",
    "for i in s.split(\" \"):\n",
    "    if len(i) > k:\n",
    "        print(i)"
   ]
  },
  {
   "cell_type": "code",
   "execution_count": 8,
   "metadata": {},
   "outputs": [
    {
     "name": "stdout",
     "output_type": "stream",
     "text": [
      "My name is ayushi krishna\n",
      "6\n",
      "My nam is ayushi krishna\n"
     ]
    }
   ],
   "source": [
    "#2\n",
    "s = input()\n",
    "k = int(input())# if k=2 then remove the 2nd char\n",
    "c=0\n",
    "s1=''\n",
    "for i in s:\n",
    "    if c != k:\n",
    "        s1 = s1+i\n",
    "    c =c+1\n",
    "print(s1)"
   ]
  },
  {
   "cell_type": "code",
   "execution_count": 13,
   "metadata": {},
   "outputs": [
    {
     "name": "stdout",
     "output_type": "stream",
     "text": [
      "my.name.is.ayushi.krishna\n"
     ]
    },
    {
     "data": {
      "text/plain": [
       "'my name is ayushi krishna'"
      ]
     },
     "execution_count": 13,
     "metadata": {},
     "output_type": "execute_result"
    }
   ],
   "source": [
    "#3\n",
    "s = input()\n",
    "' '.join(s.split('.'))"
   ]
  },
  {
   "cell_type": "code",
   "execution_count": 29,
   "metadata": {},
   "outputs": [
    {
     "name": "stdout",
     "output_type": "stream",
     "text": [
      "1100101\n",
      "binary string\n"
     ]
    }
   ],
   "source": [
    "#4\n",
    "s = input()\n",
    "f=0\n",
    "for i in range(len(s)):\n",
    "    if (s[i] != '1') & (s[i] != '0'):\n",
    "        f=1\n",
    "        print(s[i],i)\n",
    "        break\n",
    "if f == 1:\n",
    "    print(\"not binary string\")\n",
    "else:\n",
    "    print(\"binary string\")"
   ]
  },
  {
   "cell_type": "code",
   "execution_count": 6,
   "metadata": {},
   "outputs": [
    {
     "name": "stdout",
     "output_type": "stream",
     "text": [
      "My name is ayushi\n",
      "My school is\n"
     ]
    },
    {
     "data": {
      "text/plain": [
       "['name', 'ayushi', 'school']"
      ]
     },
     "execution_count": 6,
     "metadata": {},
     "output_type": "execute_result"
    }
   ],
   "source": [
    "#5\n",
    "s1 = input()\n",
    "s2 = input()\n",
    "l=[]\n",
    "for i in s1.split(\" \"):\n",
    "    if i not in s2.split(\" \"):\n",
    "        l.append(i)\n",
    "for i in s2.split(\" \"):\n",
    "    if i not in s1.split(\" \"):\n",
    "        l.append(i)\n",
    "l"
   ]
  },
  {
   "cell_type": "code",
   "execution_count": 4,
   "metadata": {
    "scrolled": true
   },
   "outputs": [
    {
     "name": "stdout",
     "output_type": "stream",
     "text": [
      "ayushi krishna\n"
     ]
    },
    {
     "data": {
      "text/plain": [
       "['a', 's', 'h', 'i']"
      ]
     },
     "execution_count": 4,
     "metadata": {},
     "output_type": "execute_result"
    }
   ],
   "source": [
    "#6\n",
    "s,l = input(),[]\n",
    "for i in s:\n",
    "    if s.count(i)>1 and i not in l:\n",
    "        l.append(i)\n",
    "l"
   ]
  },
  {
   "cell_type": "code",
   "execution_count": 31,
   "metadata": {},
   "outputs": [
    {
     "name": "stdout",
     "output_type": "stream",
     "text": [
      "ndiuvuuifvgidubv\n",
      "Not have a special character\n"
     ]
    }
   ],
   "source": [
    "#7\n",
    "s = input()\n",
    "if(s.isalnum()):\n",
    "    print(\"Not have a special character\")\n",
    "else:\n",
    "    print(\"yes have a special character\")"
   ]
  },
  {
   "cell_type": "code",
   "execution_count": null,
   "metadata": {},
   "outputs": [],
   "source": []
  }
 ],
 "metadata": {
  "kernelspec": {
   "display_name": "Python 3",
   "language": "python",
   "name": "python3"
  },
  "language_info": {
   "codemirror_mode": {
    "name": "ipython",
    "version": 3
   },
   "file_extension": ".py",
   "mimetype": "text/x-python",
   "name": "python",
   "nbconvert_exporter": "python",
   "pygments_lexer": "ipython3",
   "version": "3.8.5"
  }
 },
 "nbformat": 4,
 "nbformat_minor": 4
}
