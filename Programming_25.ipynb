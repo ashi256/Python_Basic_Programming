{
 "cells": [
  {
   "cell_type": "code",
   "execution_count": 25,
   "metadata": {},
   "outputs": [
    {
     "name": "stdout",
     "output_type": "stream",
     "text": [
      "enter a number3\n",
      "enter a number4\n",
      "enter a number3\n",
      "0\n"
     ]
    }
   ],
   "source": [
    "#1\n",
    "def fun(a,b,c):\n",
    "    \"\"\"\n",
    "    return count of interger that are equal\n",
    "    \"\"\"\n",
    "    c=0\n",
    "    if (a==b) & (b==c):\n",
    "        c=3\n",
    "    elif (a==b) | (b==c) | (c==a):\n",
    "        c=2\n",
    "    return c\n",
    "a = int(input(\"enter a number\"))\n",
    "b = int(input(\"enter a number\"))\n",
    "c = int(input(\"enter a number\"))\n",
    "print(fun(a,b,c))"
   ]
  },
  {
   "cell_type": "code",
   "execution_count": 11,
   "metadata": {},
   "outputs": [
    {
     "name": "stdout",
     "output_type": "stream",
     "text": [
      "enter the number of elemets to enter in list3\n",
      "enter the string to enterD\n",
      "enter the corresponding number1\n",
      "enter the string to enterB\n",
      "enter the corresponding number2\n",
      "enter the string to enterC\n",
      "enter the corresponding number3\n",
      "[('D', 1), ('B', 2), ('C', 3)]\n"
     ]
    }
   ],
   "source": [
    "#2\n",
    "def inp():\n",
    "    n = int(input(\"enter the number of elemets to enter in list\"))\n",
    "    d={}\n",
    "    for i in range(0,n):\n",
    "        keys = input(\"enter the string to enter\")\n",
    "        values = int(input(\"enter the corresponding number\"))\n",
    "        d[keys] = values\n",
    "    return d\n",
    "def dict_to_list(d):\n",
    "    l=[]\n",
    "    for i in d.items():\n",
    "        l.append(i)\n",
    "    return l\n",
    "d = inp()\n",
    "print(dict_to_list(d))"
   ]
  },
  {
   "cell_type": "code",
   "execution_count": 5,
   "metadata": {},
   "outputs": [
    {
     "name": "stdout",
     "output_type": "stream",
     "text": [
      "enter number of elements in list3\n",
      "enter elements in list\n",
      "a\n",
      "b\n",
      "c\n",
      "{'a': 'A', 'b': 'B', 'c': 'C'}\n"
     ]
    }
   ],
   "source": [
    "#3\n",
    "def inp():\n",
    "    n = int(input(\"enter number of elements in list\"))\n",
    "    l=[]\n",
    "    print('enter elements in list')\n",
    "    for i in range(n):\n",
    "        l.append(input())\n",
    "    return l,n\n",
    "def mapping(l,n):\n",
    "    d={}\n",
    "    for i in range(n):\n",
    "        d[l[i]] = l[i].upper()\n",
    "    return d\n",
    "l,n=inp()\n",
    "print(mapping(l,n))"
   ]
  },
  {
   "cell_type": "code",
   "execution_count": 16,
   "metadata": {},
   "outputs": [
    {
     "name": "stdout",
     "output_type": "stream",
     "text": [
      "enter a stringapples and bananas\n",
      "enter the string to replaceu\n",
      "upplus und bununus\n"
     ]
    }
   ],
   "source": [
    "#4\n",
    "def fun(s,k):\n",
    "    \"\"\" replaces vowels in a string \"\"\" \n",
    "    for i in s: \n",
    "        if i in \"aeiouAEIOU\": \n",
    "            s = s.replace(i,k) \n",
    "    return s \n",
    "s = input(\"enter a string\") \n",
    "k = input(\"enter the string to replace\") \n",
    "print(fun(s,k))"
   ]
  },
  {
   "cell_type": "code",
   "execution_count": 15,
   "metadata": {},
   "outputs": [
    {
     "name": "stdout",
     "output_type": "stream",
     "text": [
      "enter the stringto be or not to be!\n",
      "To Be oR NoT To Be!\n"
     ]
    }
   ],
   "source": [
    "#5\n",
    "def fun(s):\n",
    "    \"\"\"\n",
    "    capitalize the letter if its ASCII code is even, odd otherwise\n",
    "    \"\"\"\n",
    "    ss=\"\"\n",
    "    for i in s:\n",
    "        if ord(i)%2 == 0:\n",
    "            ss = ss+i.upper()\n",
    "        else:\n",
    "            ss = ss+i.lower()\n",
    "    return ss\n",
    "s = input(\"enter the string\")\n",
    "print(fun(s))"
   ]
  },
  {
   "cell_type": "code",
   "execution_count": null,
   "metadata": {},
   "outputs": [],
   "source": []
  }
 ],
 "metadata": {
  "kernelspec": {
   "display_name": "Python 3",
   "language": "python",
   "name": "python3"
  },
  "language_info": {
   "codemirror_mode": {
    "name": "ipython",
    "version": 3
   },
   "file_extension": ".py",
   "mimetype": "text/x-python",
   "name": "python",
   "nbconvert_exporter": "python",
   "pygments_lexer": "ipython3",
   "version": "3.8.5"
  }
 },
 "nbformat": 4,
 "nbformat_minor": 4
}
