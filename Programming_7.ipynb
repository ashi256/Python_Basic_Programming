{
 "cells": [
  {
   "cell_type": "code",
   "execution_count": 15,
   "metadata": {},
   "outputs": [
    {
     "name": "stdout",
     "output_type": "stream",
     "text": [
      "2\n",
      "3\n",
      "5\n"
     ]
    }
   ],
   "source": [
    "#1\n",
    "a = int(input())\n",
    "b = int(input())\n",
    "print(a+b)"
   ]
  },
  {
   "cell_type": "code",
   "execution_count": 23,
   "metadata": {},
   "outputs": [
    {
     "name": "stdout",
     "output_type": "stream",
     "text": [
      "5\n",
      "10\n",
      "1\n",
      "20\n",
      "22\n",
      "5\n",
      "22\n"
     ]
    }
   ],
   "source": [
    "#2\n",
    "n = int(input())\n",
    "l=[]\n",
    "m=0\n",
    "for i in range(n):\n",
    "    a = int(input())\n",
    "    l.append(a)\n",
    "for i in range(n):\n",
    "    if(l[i]>m):\n",
    "        m=l[i]\n",
    "print(m)\n"
   ]
  },
  {
   "cell_type": "code",
   "execution_count": 1,
   "metadata": {},
   "outputs": [
    {
     "name": "stdout",
     "output_type": "stream",
     "text": [
      "enter array length5\n",
      "number of rotation needed2\n",
      "enter array element\n",
      "5\n",
      "1\n",
      "2\n",
      "3\n",
      "4\n"
     ]
    },
    {
     "data": {
      "text/plain": [
       "[2, 3, 4, 5, 1]"
      ]
     },
     "execution_count": 1,
     "metadata": {},
     "output_type": "execute_result"
    }
   ],
   "source": [
    "#3\n",
    "n = int(input(\"enter array length\"))\n",
    "d = int(input(\"number of rotation needed\"))\n",
    "l=[]\n",
    "print(\"enter array element\")\n",
    "for i in range(n):\n",
    "    l.append(int(input()))\n",
    "l\n",
    "i=0\n",
    "c=0\n",
    "while 1:\n",
    "    c =c+1\n",
    "    l.append(l[i])\n",
    "    l.remove(l[i])\n",
    "    if c == d:\n",
    "        break\n",
    "l"
   ]
  },
  {
   "cell_type": "code",
   "execution_count": 2,
   "metadata": {},
   "outputs": [
    {
     "name": "stdout",
     "output_type": "stream",
     "text": [
      "enter list length5\n",
      "enter list element\n",
      "1\n",
      "2\n",
      "3\n",
      "4\n",
      "5\n",
      "list 1 after split  [3, 4, 5]\n",
      "list 2 after split [1, 2]\n",
      "adding the list1 to end of list 2  [3, 4, 5, 1, 2]\n"
     ]
    }
   ],
   "source": [
    "#4\n",
    "n = int(input(\"enter list length\"))\n",
    "l,ll = [],[]\n",
    "c = int(n/2)\n",
    "print(\"enter list element\")\n",
    "for i in range(n):\n",
    "    l.append(int(input()))\n",
    "c,i=0,0\n",
    "while 1:\n",
    "    c = c+1\n",
    "    ll.append(l[i])\n",
    "    l.remove(l[i])\n",
    "    if c == int(n/2):\n",
    "        break\n",
    "print(\"list 1 after split \",l)\n",
    "print(\"list 2 after split\",ll)\n",
    "l = l+ll\n",
    "print(\"adding the list1 to end of list 2 \",l)"
   ]
  },
  {
   "cell_type": "code",
   "execution_count": 5,
   "metadata": {},
   "outputs": [
    {
     "name": "stdout",
     "output_type": "stream",
     "text": [
      "enter number of elemet in list4\n",
      "enter list element\n",
      "5\n",
      "4\n",
      "10\n",
      "15\n",
      "False\n"
     ]
    }
   ],
   "source": [
    "#5 monotonic - true or false\n",
    "def monotonic(l):\n",
    "    return (all(l[i]<=l[i+1] for i in range(len(l)-1)) or all(l[i]>=l[i+1] for i in range(len(l)-1)))\n",
    "n = int(input(\"enter number of elemet in list\"))\n",
    "l= []\n",
    "print(\"enter list element\")\n",
    "for i in range(n):\n",
    "    l.append(int(input()))\n",
    "print(monotonic(l))"
   ]
  },
  {
   "cell_type": "code",
   "execution_count": null,
   "metadata": {},
   "outputs": [],
   "source": []
  }
 ],
 "metadata": {
  "kernelspec": {
   "display_name": "Python 3",
   "language": "python",
   "name": "python3"
  },
  "language_info": {
   "codemirror_mode": {
    "name": "ipython",
    "version": 3
   },
   "file_extension": ".py",
   "mimetype": "text/x-python",
   "name": "python",
   "nbconvert_exporter": "python",
   "pygments_lexer": "ipython3",
   "version": "3.8.5"
  }
 },
 "nbformat": 4,
 "nbformat_minor": 4
}
