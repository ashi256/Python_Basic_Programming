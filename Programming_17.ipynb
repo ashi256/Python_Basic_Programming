{
 "cells": [
  {
   "cell_type": "code",
   "execution_count": 1,
   "metadata": {},
   "outputs": [
    {
     "name": "stdout",
     "output_type": "stream",
     "text": [
      "enter a number1\n",
      "enter a number10\n",
      "enter a number3\n",
      "18\n"
     ]
    }
   ],
   "source": [
    "#1\n",
    "def fun(a,b,c):\n",
    "    \"\"\"\n",
    "    returns the sum of the\n",
    "numbers that are evenly divided by c\n",
    "from the range a, b inclusive.\n",
    "    \"\"\"\n",
    "    s=0\n",
    "    for i in range(a,b+1):\n",
    "        if i%c == 0:\n",
    "            s+=i\n",
    "    return s\n",
    "a=int(input(\"enter a number\"))\n",
    "b=int(input(\"enter a number\"))\n",
    "c=int(input(\"enter a number\"))\n",
    "print(fun(a,b,c))"
   ]
  },
  {
   "cell_type": "code",
   "execution_count": 3,
   "metadata": {},
   "outputs": [
    {
     "name": "stdout",
     "output_type": "stream",
     "text": [
      "enter an experssion13>44>33>1\n",
      "False\n"
     ]
    }
   ],
   "source": [
    "def correct_signs():\n",
    "    \"\"\"\n",
    "    True if a given inequality\n",
    "    expression is correct\n",
    "    \"\"\"\n",
    "    exp = eval(input(\"enter an experssion\"))\n",
    "    return exp\n",
    "print(correct_signs())"
   ]
  },
  {
   "cell_type": "code",
   "execution_count": 4,
   "metadata": {},
   "outputs": [
    {
     "name": "stdout",
     "output_type": "stream",
     "text": [
      "enter a stringthe aardvark\n",
      "character to replace vowels with#\n",
      "th# ##rdv#rk\n"
     ]
    }
   ],
   "source": [
    "#3\n",
    "def fun(s,ch):\n",
    "    \"\"\"\n",
    "    replaces all the vowels in a string \n",
    "    with a specified character.\n",
    "    \"\"\"\n",
    "    ss=\"\"\n",
    "    l = [\"a\",\"e\",\"i\",\"o\",\"u\",\"A\",\"E\",\"I\",\"O\",\"U\"]\n",
    "    for i in s:\n",
    "        if i in l:\n",
    "            ss+=ch\n",
    "        else:\n",
    "            ss+=i\n",
    "    return ss\n",
    "s = input(\"enter a string\")\n",
    "ch = input(\"character to replace vowels with\")\n",
    "print(fun(s,ch))"
   ]
  },
  {
   "cell_type": "code",
   "execution_count": 5,
   "metadata": {},
   "outputs": [
    {
     "name": "stdout",
     "output_type": "stream",
     "text": [
      "enter a number5\n",
      "120\n"
     ]
    }
   ],
   "source": [
    "#4\n",
    "def fun(n):\n",
    "    \"\"\"\n",
    "    factorial of a number\n",
    "    \"\"\"\n",
    "    if n == 0:\n",
    "        return 1\n",
    "    return n*fun(n-1)\n",
    "n = int(input(\"enter a number\"))\n",
    "print(fun(n))"
   ]
  },
  {
   "cell_type": "code",
   "execution_count": 6,
   "metadata": {},
   "outputs": [
    {
     "name": "stdout",
     "output_type": "stream",
     "text": [
      "enter 1st stringstrong\n",
      "enter 2nd stringstrung\n",
      "1\n"
     ]
    }
   ],
   "source": [
    "#5\n",
    "def fun(a,b):\n",
    "    \"\"\"\n",
    "    hamming distance\n",
    "    \"\"\"\n",
    "    n,m = len(a),len(b)\n",
    "    c=0\n",
    "    if(n != m):#if length of the string is different\n",
    "        c += abs(m-n)\n",
    "    for i in range(n):\n",
    "        if a[i] != b[i]:\n",
    "            c+=1\n",
    "    return c\n",
    "s1 = input(\"enter 1st string\")\n",
    "s2 = input(\"enter 2nd string\")\n",
    "print(fun(s1,s2))"
   ]
  },
  {
   "cell_type": "code",
   "execution_count": null,
   "metadata": {},
   "outputs": [],
   "source": []
  }
 ],
 "metadata": {
  "kernelspec": {
   "display_name": "Python 3",
   "language": "python",
   "name": "python3"
  },
  "language_info": {
   "codemirror_mode": {
    "name": "ipython",
    "version": 3
   },
   "file_extension": ".py",
   "mimetype": "text/x-python",
   "name": "python",
   "nbconvert_exporter": "python",
   "pygments_lexer": "ipython3",
   "version": "3.8.5"
  }
 },
 "nbformat": 4,
 "nbformat_minor": 4
}
