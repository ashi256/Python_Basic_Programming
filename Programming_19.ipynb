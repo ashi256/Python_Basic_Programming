{
 "cells": [
  {
   "cell_type": "code",
   "execution_count": 3,
   "metadata": {},
   "outputs": [
    {
     "name": "stdout",
     "output_type": "stream",
     "text": [
      "enter a stringstring\n",
      "ssttrriinngg\n"
     ]
    }
   ],
   "source": [
    "#1\n",
    "def fun(s):\n",
    "    \"\"\"\n",
    "    return a string in which each cahar is repeated\n",
    "    \"\"\"\n",
    "    s1=''\n",
    "    for i in range(len(s)):\n",
    "        s1 = s1+s[i]*2\n",
    "    return s1\n",
    "s = input(\"enter a string\")\n",
    "print(fun(s))"
   ]
  },
  {
   "cell_type": "code",
   "execution_count": 47,
   "metadata": {},
   "outputs": [
    {
     "name": "stdout",
     "output_type": "stream",
     "text": [
      "enter either True or False None\n",
      "Boolean expected\n"
     ]
    }
   ],
   "source": [
    "#2\n",
    "def enter_values():\n",
    "        n = input(\"enter either True or False \")\n",
    "        if(type(n) != str):\n",
    "            raise Exception(\"Boolean expected\")\n",
    "        else:\n",
    "            return (rever(n))\n",
    "def rever(n):\n",
    "    \"\"\"\n",
    "    return true or false if boolean is their\n",
    "    else boolean expected\n",
    "    \"\"\"\n",
    "    if n == \"True\":\n",
    "        return False\n",
    "    elif n == \"False\":\n",
    "        return True\n",
    "    else:\n",
    "        return \"Boolean expected\"\n",
    "print(enter_values())"
   ]
  },
  {
   "cell_type": "code",
   "execution_count": 42,
   "metadata": {},
   "outputs": [
    {
     "name": "stdout",
     "output_type": "stream",
     "text": [
      "enter a integer21\n",
      "1048.576\n"
     ]
    }
   ],
   "source": [
    "#3\n",
    "def fun(n):\n",
    "    res = 0.5\n",
    "    for i in range(n):\n",
    "        res *= 2\n",
    "    return res / 1000\n",
    "n = int(input(\"enter a integer\"))\n",
    "print(fun(n))"
   ]
  },
  {
   "cell_type": "code",
   "execution_count": 5,
   "metadata": {},
   "outputs": [
    {
     "name": "stdout",
     "output_type": "stream",
     "text": [
      "enter a stringeQuINox\n",
      "[1, 3, 4]\n"
     ]
    }
   ],
   "source": [
    "#4 \n",
    "def fun(s):\n",
    "    \"\"\"\n",
    "    return the index of all captial letters\n",
    "    \"\"\"\n",
    "    l=[]\n",
    "    for i in range(len(s)):\n",
    "        if(s[i]>='A')&(s[i]<='Z'):\n",
    "            l.append(i)\n",
    "    return l\n",
    "s = input(\"enter a string\")\n",
    "print(fun(s))"
   ]
  },
  {
   "cell_type": "code",
   "execution_count": 7,
   "metadata": {},
   "outputs": [
    {
     "name": "stdout",
     "output_type": "stream",
     "text": [
      "enter a integer8\n",
      "[2, 4, 6]\n"
     ]
    }
   ],
   "source": [
    "#5\n",
    "def fun(n):\n",
    "    \"\"\"\n",
    "    find all even number in a range\n",
    "    \"\"\"\n",
    "    l=[]\n",
    "    [l.append(i) for i in range(1,n) if(i%2 == 0)]\n",
    "    return l\n",
    "n = int(input(\"enter a integer\"))\n",
    "print(fun(n))"
   ]
  },
  {
   "cell_type": "code",
   "execution_count": null,
   "metadata": {},
   "outputs": [],
   "source": []
  }
 ],
 "metadata": {
  "kernelspec": {
   "display_name": "Python 3",
   "language": "python",
   "name": "python3"
  },
  "language_info": {
   "codemirror_mode": {
    "name": "ipython",
    "version": 3
   },
   "file_extension": ".py",
   "mimetype": "text/x-python",
   "name": "python",
   "nbconvert_exporter": "python",
   "pygments_lexer": "ipython3",
   "version": "3.8.5"
  }
 },
 "nbformat": 4,
 "nbformat_minor": 4
}
